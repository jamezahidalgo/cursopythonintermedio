{
  "nbformat": 4,
  "nbformat_minor": 0,
  "metadata": {
    "colab": {
      "name": "Python Intermedio.ipynb",
      "provenance": []
    },
    "kernelspec": {
      "name": "python3",
      "display_name": "Python 3"
    },
    "language_info": {
      "name": "python"
    }
  },
  "cells": [
    {
      "cell_type": "markdown",
      "metadata": {
        "id": "q-nwaX8lQCgu"
      },
      "source": [
        "# Arreglos bidimensionales"
      ]
    },
    {
      "cell_type": "markdown",
      "metadata": {
        "id": "MpcCacg9_ARW"
      },
      "source": [
        "## Carga de librerías\n",
        "\n",
        "Para trabajar con arreglos se utiliza una librería de Python, numpy, que contiene las funciones para todo el tratamiento numérico (de ahí el nombre *numeric python*)"
      ]
    },
    {
      "cell_type": "code",
      "metadata": {
        "id": "g_1OoEZExBYl"
      },
      "source": [
        "import numpy as np"
      ],
      "execution_count": 1,
      "outputs": []
    },
    {
      "cell_type": "markdown",
      "metadata": {
        "id": "ersUzgGy-4kx"
      },
      "source": [
        "## Creando un arreglo bidimensional"
      ]
    },
    {
      "cell_type": "code",
      "metadata": {
        "colab": {
          "base_uri": "https://localhost:8080/"
        },
        "id": "6ZRo8nTAwQS5",
        "outputId": "e0f10da6-395b-436a-b22b-007d6df16dea"
      },
      "source": [
        "a = np.zeros((3,2))\n",
        "a"
      ],
      "execution_count": 46,
      "outputs": [
        {
          "output_type": "execute_result",
          "data": {
            "text/plain": [
              "array([[0., 0.],\n",
              "       [0., 0.],\n",
              "       [0., 0.]])"
            ]
          },
          "metadata": {},
          "execution_count": 46
        }
      ]
    },
    {
      "cell_type": "markdown",
      "metadata": {
        "id": "ByQGskeD_5zv"
      },
      "source": [
        "## Averiguando la dimensión del arreglo ..."
      ]
    },
    {
      "cell_type": "code",
      "metadata": {
        "colab": {
          "base_uri": "https://localhost:8080/"
        },
        "id": "nWloocDf_98q",
        "outputId": "1c67ec5f-77f4-49c8-8f3e-7d5adad5c854"
      },
      "source": [
        "a.ndim"
      ],
      "execution_count": 47,
      "outputs": [
        {
          "output_type": "execute_result",
          "data": {
            "text/plain": [
              "2"
            ]
          },
          "metadata": {},
          "execution_count": 47
        }
      ]
    },
    {
      "cell_type": "markdown",
      "metadata": {
        "id": "xli99wgKADPg"
      },
      "source": [
        "## ¿Cuántas filas y cuántas columnas?"
      ]
    },
    {
      "cell_type": "code",
      "metadata": {
        "colab": {
          "base_uri": "https://localhost:8080/"
        },
        "id": "waWL6WcZAHlC",
        "outputId": "ceefcaed-c062-4b99-a525-91d14948196f"
      },
      "source": [
        "print(\"Filas = \", len(a))\n",
        "print(\"Columnas = \", len(a[0]))\n",
        "print(\"shape = \", a.shape)"
      ],
      "execution_count": 48,
      "outputs": [
        {
          "output_type": "stream",
          "name": "stdout",
          "text": [
            "Filas =  3\n",
            "Columnas =  2\n",
            "shape =  (3, 2)\n"
          ]
        }
      ]
    },
    {
      "cell_type": "markdown",
      "metadata": {
        "id": "MB5SfVW9_X15"
      },
      "source": [
        "## Acceso a los elementos"
      ]
    },
    {
      "cell_type": "code",
      "metadata": {
        "colab": {
          "base_uri": "https://localhost:8080/"
        },
        "id": "Tncb4iA6_a0G",
        "outputId": "5e138ee3-b02d-4503-ea0d-b5ace84a84ca"
      },
      "source": [
        "a[0][0] = 29\n",
        "a"
      ],
      "execution_count": 49,
      "outputs": [
        {
          "output_type": "execute_result",
          "data": {
            "text/plain": [
              "array([[29.,  0.],\n",
              "       [ 0.,  0.],\n",
              "       [ 0.,  0.]])"
            ]
          },
          "metadata": {},
          "execution_count": 49
        }
      ]
    },
    {
      "cell_type": "code",
      "metadata": {
        "colab": {
          "base_uri": "https://localhost:8080/"
        },
        "id": "S1YscQJPpaTu",
        "outputId": "508df062-34d0-4b80-a09d-2bd3a50e401c"
      },
      "source": [
        "a[1,1] = 6\n",
        "a"
      ],
      "execution_count": 50,
      "outputs": [
        {
          "output_type": "execute_result",
          "data": {
            "text/plain": [
              "array([[29.,  0.],\n",
              "       [ 0.,  6.],\n",
              "       [ 0.,  0.]])"
            ]
          },
          "metadata": {},
          "execution_count": 50
        }
      ]
    },
    {
      "cell_type": "markdown",
      "metadata": {
        "id": "Q6NgGt0-_gBg"
      },
      "source": [
        "## Algunas funciones"
      ]
    },
    {
      "cell_type": "code",
      "metadata": {
        "colab": {
          "base_uri": "https://localhost:8080/"
        },
        "id": "5ZL5oewqbsdi",
        "outputId": "fd61edbd-5393-43d0-d39c-844c4e53f141"
      },
      "source": [
        "# Relleno\n",
        "a.fill(12)\n",
        "a"
      ],
      "execution_count": 51,
      "outputs": [
        {
          "output_type": "execute_result",
          "data": {
            "text/plain": [
              "array([[12., 12.],\n",
              "       [12., 12.],\n",
              "       [12., 12.]])"
            ]
          },
          "metadata": {},
          "execution_count": 51
        }
      ]
    },
    {
      "cell_type": "code",
      "metadata": {
        "colab": {
          "base_uri": "https://localhost:8080/"
        },
        "id": "rhkGTZo6bzW8",
        "outputId": "c6948641-c1e5-41e1-ce5b-9fae5e90329f"
      },
      "source": [
        "# Cambia la disposición de los elementos\n",
        "a = a.reshape((2,3))\n",
        "a"
      ],
      "execution_count": 56,
      "outputs": [
        {
          "output_type": "execute_result",
          "data": {
            "text/plain": [
              "array([[12., 12., 12.],\n",
              "       [12., 12., 12.]])"
            ]
          },
          "metadata": {},
          "execution_count": 56
        }
      ]
    },
    {
      "cell_type": "code",
      "metadata": {
        "colab": {
          "base_uri": "https://localhost:8080/"
        },
        "id": "D--Z9qoGo2cv",
        "outputId": "dc47e247-3a6e-4a07-d6b3-53337655feda"
      },
      "source": [
        "a.shape"
      ],
      "execution_count": 57,
      "outputs": [
        {
          "output_type": "execute_result",
          "data": {
            "text/plain": [
              "(2, 3)"
            ]
          },
          "metadata": {},
          "execution_count": 57
        }
      ]
    },
    {
      "cell_type": "code",
      "metadata": {
        "colab": {
          "base_uri": "https://localhost:8080/"
        },
        "id": "H_rHAya4qIRc",
        "outputId": "92657871-36bf-4c6c-d788-a55b4bc2627d"
      },
      "source": [
        "a[1,2] = 15\n",
        "a"
      ],
      "execution_count": 59,
      "outputs": [
        {
          "output_type": "execute_result",
          "data": {
            "text/plain": [
              "array([[12., 12., 12.],\n",
              "       [12., 12., 15.]])"
            ]
          },
          "metadata": {},
          "execution_count": 59
        }
      ]
    },
    {
      "cell_type": "code",
      "metadata": {
        "colab": {
          "base_uri": "https://localhost:8080/"
        },
        "id": "26lqZol6qBTm",
        "outputId": "454821f6-b08e-4c5f-a37e-38b43474a5b3"
      },
      "source": [
        "a = a + [1,2,3]\n",
        "a"
      ],
      "execution_count": 61,
      "outputs": [
        {
          "output_type": "execute_result",
          "data": {
            "text/plain": [
              "array([[13., 14., 15.],\n",
              "       [13., 14., 18.]])"
            ]
          },
          "metadata": {},
          "execution_count": 61
        }
      ]
    },
    {
      "cell_type": "code",
      "metadata": {
        "colab": {
          "base_uri": "https://localhost:8080/"
        },
        "id": "XJNK8EWTpDic",
        "outputId": "5034f980-fe9b-48bc-e4e1-de4571976f6c"
      },
      "source": [
        "b = np.diag(np.array([1, 2, 3, 4]))\n",
        "b"
      ],
      "execution_count": 62,
      "outputs": [
        {
          "output_type": "execute_result",
          "data": {
            "text/plain": [
              "array([[1, 0, 0, 0],\n",
              "       [0, 2, 0, 0],\n",
              "       [0, 0, 3, 0],\n",
              "       [0, 0, 0, 4]])"
            ]
          },
          "metadata": {},
          "execution_count": 62
        }
      ]
    },
    {
      "cell_type": "markdown",
      "metadata": {
        "id": "8EmlBeWyzALB"
      },
      "source": [
        "## Otra forma de crear un arreglo bidimensional"
      ]
    },
    {
      "cell_type": "code",
      "metadata": {
        "colab": {
          "base_uri": "https://localhost:8080/"
        },
        "id": "Sz9H0c5MdFCc",
        "outputId": "5d935c2f-0e60-422a-a1c5-6dcf1620517f"
      },
      "source": [
        "A = [[15,25,4], \n",
        "     [12,45,67], \n",
        "     [2,5,1], \n",
        "     [18,28,7]]\n",
        "A"
      ],
      "execution_count": 66,
      "outputs": [
        {
          "output_type": "execute_result",
          "data": {
            "text/plain": [
              "[[15, 25, 4], [12, 45, 67], [2, 5, 1], [18, 28, 7]]"
            ]
          },
          "metadata": {},
          "execution_count": 66
        }
      ]
    },
    {
      "cell_type": "code",
      "metadata": {
        "colab": {
          "base_uri": "https://localhost:8080/"
        },
        "id": "1_ChjewqsInJ",
        "outputId": "2a204f0c-1576-42ba-cad8-527d8db36236"
      },
      "source": [
        "B = np.array(A)\n",
        "B"
      ],
      "execution_count": 67,
      "outputs": [
        {
          "output_type": "execute_result",
          "data": {
            "text/plain": [
              "array([[15, 25,  4],\n",
              "       [12, 45, 67],\n",
              "       [ 2,  5,  1],\n",
              "       [18, 28,  7]])"
            ]
          },
          "metadata": {},
          "execution_count": 67
        }
      ]
    },
    {
      "cell_type": "code",
      "metadata": {
        "colab": {
          "base_uri": "https://localhost:8080/"
        },
        "id": "JahD7hKK2jOM",
        "outputId": "e4c75711-439b-4efd-9da1-d2008721c64f"
      },
      "source": [
        "B.argmax()"
      ],
      "execution_count": 68,
      "outputs": [
        {
          "output_type": "execute_result",
          "data": {
            "text/plain": [
              "5"
            ]
          },
          "metadata": {},
          "execution_count": 68
        }
      ]
    },
    {
      "cell_type": "code",
      "metadata": {
        "colab": {
          "base_uri": "https://localhost:8080/"
        },
        "id": "Dzo8ChLdcJ3e",
        "outputId": "7cfdcda3-2060-4dd6-f577-e32c4eced2e7"
      },
      "source": [
        "B.argmax(1)"
      ],
      "execution_count": 69,
      "outputs": [
        {
          "output_type": "execute_result",
          "data": {
            "text/plain": [
              "array([1, 2, 1, 1])"
            ]
          },
          "metadata": {},
          "execution_count": 69
        }
      ]
    },
    {
      "cell_type": "code",
      "metadata": {
        "colab": {
          "base_uri": "https://localhost:8080/"
        },
        "id": "55mJrJeB2doO",
        "outputId": "cd8e247e-8475-4a10-fd4e-542c0dc9221c"
      },
      "source": [
        "B.argmax(0)"
      ],
      "execution_count": 71,
      "outputs": [
        {
          "output_type": "execute_result",
          "data": {
            "text/plain": [
              "array([3, 1, 1])"
            ]
          },
          "metadata": {},
          "execution_count": 71
        }
      ]
    },
    {
      "cell_type": "code",
      "metadata": {
        "colab": {
          "base_uri": "https://localhost:8080/"
        },
        "id": "DrxS0bkUdv13",
        "outputId": "0b438808-dd7a-43bf-d067-51090dd3c049"
      },
      "source": [
        "filas = B.shape[0]\n",
        "columnas = B.shape[1]\n",
        "C = np.zeros(B.shape)\n",
        "for fila in range(filas):\n",
        "  for columna in range(columnas):\n",
        "    C[fila, columna] = B[fila, columna]*2\n",
        "C"
      ],
      "execution_count": 41,
      "outputs": [
        {
          "output_type": "execute_result",
          "data": {
            "text/plain": [
              "array([[ 30.,  50.,   8.],\n",
              "       [ 24.,  90., 134.],\n",
              "       [  4.,  10.,   2.],\n",
              "       [ 36.,  50., 134.]])"
            ]
          },
          "metadata": {},
          "execution_count": 41
        }
      ]
    },
    {
      "cell_type": "markdown",
      "metadata": {
        "id": "VG_hv8tUEfiZ"
      },
      "source": [
        "## Otra opción para crear una matriz"
      ]
    },
    {
      "cell_type": "code",
      "metadata": {
        "colab": {
          "base_uri": "https://localhost:8080/"
        },
        "id": "QyBhB70K0FSd",
        "outputId": "88c32121-4353-4988-9ec0-242c425e20b9"
      },
      "source": [
        "D = np.matrix(A)\n",
        "D"
      ],
      "execution_count": 42,
      "outputs": [
        {
          "output_type": "execute_result",
          "data": {
            "text/plain": [
              "matrix([[15, 25,  4],\n",
              "        [12, 45, 67],\n",
              "        [ 2,  5,  1],\n",
              "        [18, 25, 67]])"
            ]
          },
          "metadata": {},
          "execution_count": 42
        }
      ]
    },
    {
      "cell_type": "code",
      "metadata": {
        "colab": {
          "base_uri": "https://localhost:8080/"
        },
        "id": "5M-pFH1C0tv8",
        "outputId": "9a110a5b-4118-49e8-894b-0b719d23b20d"
      },
      "source": [
        "D.reshape((3,4))"
      ],
      "execution_count": 43,
      "outputs": [
        {
          "output_type": "execute_result",
          "data": {
            "text/plain": [
              "matrix([[15, 25,  4, 12],\n",
              "        [45, 67,  2,  5],\n",
              "        [ 1, 18, 25, 67]])"
            ]
          },
          "metadata": {},
          "execution_count": 43
        }
      ]
    },
    {
      "cell_type": "code",
      "metadata": {
        "colab": {
          "base_uri": "https://localhost:8080/"
        },
        "id": "dUwIYXz908N1",
        "outputId": "ab15029b-0d9f-4204-8ae6-ed0106f0b90e"
      },
      "source": [
        "D.shape"
      ],
      "execution_count": 45,
      "outputs": [
        {
          "output_type": "execute_result",
          "data": {
            "text/plain": [
              "(4, 3)"
            ]
          },
          "metadata": {},
          "execution_count": 45
        }
      ]
    },
    {
      "cell_type": "markdown",
      "metadata": {
        "id": "ig9LD0rZEooI"
      },
      "source": [
        "## Acceso usando slices"
      ]
    },
    {
      "cell_type": "code",
      "metadata": {
        "colab": {
          "base_uri": "https://localhost:8080/"
        },
        "id": "du2Dpi9HB7TA",
        "outputId": "9fc674c1-8f60-46d1-e1ec-94e3b3995271"
      },
      "source": [
        "D[:,2]"
      ],
      "execution_count": 74,
      "outputs": [
        {
          "output_type": "execute_result",
          "data": {
            "text/plain": [
              "matrix([[ 4],\n",
              "        [67],\n",
              "        [ 1],\n",
              "        [67]])"
            ]
          },
          "metadata": {},
          "execution_count": 74
        }
      ]
    },
    {
      "cell_type": "markdown",
      "metadata": {
        "id": "VISbsS4KEvP0"
      },
      "source": [
        "## Algunas funciones útiles"
      ]
    },
    {
      "cell_type": "code",
      "metadata": {
        "colab": {
          "base_uri": "https://localhost:8080/"
        },
        "id": "b5kXIjtVBF1m",
        "outputId": "b0278d93-5fbf-423c-c7a1-e383f3efb251"
      },
      "source": [
        "X = np.matrix(np.arange(12).reshape((3,4)))\n",
        "X"
      ],
      "execution_count": 78,
      "outputs": [
        {
          "output_type": "execute_result",
          "data": {
            "text/plain": [
              "matrix([[ 0,  1,  2,  3],\n",
              "        [ 4,  5,  6,  7],\n",
              "        [ 8,  9, 10, 11]])"
            ]
          },
          "metadata": {},
          "execution_count": 78
        }
      ]
    },
    {
      "cell_type": "code",
      "metadata": {
        "colab": {
          "base_uri": "https://localhost:8080/"
        },
        "id": "bC1AnJZZBM6p",
        "outputId": "72baf476-e659-4b70-98b9-bafae7bab3f4"
      },
      "source": [
        "print(\"Uso 1 ==> {0}\".format(X.sum()))\n",
        "print(\"Uso 2 ==> {0}\".format(X.sum(axis=1)))\n",
        "print(\"Uso 3 ==> {0}\".format(X.sum(axis=0)))"
      ],
      "execution_count": 80,
      "outputs": [
        {
          "output_type": "stream",
          "name": "stdout",
          "text": [
            "Uso 1 ==> 66\n",
            "Uso 2 ==> [[ 6]\n",
            " [22]\n",
            " [38]]\n",
            "Uso 3 ==> [[12 15 18 21]]\n"
          ]
        }
      ]
    },
    {
      "cell_type": "code",
      "metadata": {
        "colab": {
          "base_uri": "https://localhost:8080/"
        },
        "id": "R6wqn6BiDQ1r",
        "outputId": "e3f3945f-ca37-4b47-f7cc-a607e5a47ee2"
      },
      "source": [
        "print(\"Uso 1 ==> {0}\".format(X.mean()))\n",
        "print(\"Uso 2 ==> {0}\".format(X.mean(axis=1)))\n",
        "print(\"Uso 3 ==> {0}\".format(X.mean(axis=0)))"
      ],
      "execution_count": 81,
      "outputs": [
        {
          "output_type": "stream",
          "name": "stdout",
          "text": [
            "Uso 1 ==> 5.5\n",
            "Uso 2 ==> [[1.5]\n",
            " [5.5]\n",
            " [9.5]]\n",
            "Uso 3 ==> [[4. 5. 6. 7.]]\n"
          ]
        }
      ]
    },
    {
      "cell_type": "markdown",
      "metadata": {
        "id": "qVr9cmynQG4V"
      },
      "source": [
        "# Funciones"
      ]
    },
    {
      "cell_type": "markdown",
      "metadata": {
        "id": "6Th2JesGE4uo"
      },
      "source": [
        "## Lo básico"
      ]
    },
    {
      "cell_type": "code",
      "metadata": {
        "id": "KyeNZ7aJ5-4m"
      },
      "source": [
        "def esPar(x):\n",
        "  return x % 2 == 0"
      ],
      "execution_count": 10,
      "outputs": []
    },
    {
      "cell_type": "code",
      "metadata": {
        "colab": {
          "base_uri": "https://localhost:8080/"
        },
        "id": "3Ud6yqJ36tlV",
        "outputId": "59a4d85e-fc21-4d34-a820-0662d0862ce5"
      },
      "source": [
        "# Llamada a la función\n",
        "print(esPar(13))\n",
        "print(esPar(4))"
      ],
      "execution_count": 11,
      "outputs": [
        {
          "output_type": "stream",
          "name": "stdout",
          "text": [
            "False\n",
            "True\n"
          ]
        }
      ]
    },
    {
      "cell_type": "code",
      "metadata": {
        "id": "nuDs6aVl7K1k"
      },
      "source": [
        "def f(x,y):\n",
        "  suma = 0\n",
        "  for i in range(x,y+1):\n",
        "    suma = suma + i\n",
        "  return suma"
      ],
      "execution_count": 13,
      "outputs": []
    },
    {
      "cell_type": "code",
      "metadata": {
        "colab": {
          "base_uri": "https://localhost:8080/"
        },
        "id": "i-eg4tpF7hTn",
        "outputId": "b8b185a3-232a-43a6-ae43-b1ac759a7db9"
      },
      "source": [
        "print(f(2,5))"
      ],
      "execution_count": 14,
      "outputs": [
        {
          "output_type": "stream",
          "name": "stdout",
          "text": [
            "14\n"
          ]
        }
      ]
    },
    {
      "cell_type": "code",
      "metadata": {
        "id": "lBLW7gNV7lh5"
      },
      "source": [
        "def f(n=10):\n",
        "  r = 0\n",
        "  for i in range(2,n+1,2):\n",
        "    r = r + i\n",
        "  return r"
      ],
      "execution_count": 16,
      "outputs": []
    },
    {
      "cell_type": "code",
      "metadata": {
        "colab": {
          "base_uri": "https://localhost:8080/"
        },
        "id": "QfuXXZGt7_cU",
        "outputId": "abdee597-182c-479f-8b9a-5c60a28ffae9"
      },
      "source": [
        "print(f(7))\n",
        "print(f())"
      ],
      "execution_count": 18,
      "outputs": [
        {
          "output_type": "stream",
          "name": "stdout",
          "text": [
            "12\n",
            "30\n"
          ]
        }
      ]
    },
    {
      "cell_type": "markdown",
      "metadata": {
        "id": "SKq5zL5hE07a"
      },
      "source": [
        "## Retornando más de un valor"
      ]
    },
    {
      "cell_type": "code",
      "metadata": {
        "id": "ITEjbdeKAe-Q"
      },
      "source": [
        "def g(x):\n",
        "  if x.ndim == 2:\n",
        "    return len(x), len(x[0])"
      ],
      "execution_count": 35,
      "outputs": []
    },
    {
      "cell_type": "code",
      "metadata": {
        "colab": {
          "base_uri": "https://localhost:8080/"
        },
        "id": "K7kx4EhVAqpC",
        "outputId": "a4a6377f-4961-43dd-a968-7be1ce627afa"
      },
      "source": [
        "# Probamos la función\n",
        "t = np.ones((4,5))\n",
        "ra, rb = g(t)\n",
        "print(ra, rb)"
      ],
      "execution_count": 36,
      "outputs": [
        {
          "output_type": "stream",
          "name": "stdout",
          "text": [
            "4 5\n"
          ]
        }
      ]
    },
    {
      "cell_type": "code",
      "metadata": {
        "id": "eobvMYCtzLLQ"
      },
      "source": [
        "def h(x):\n",
        "  for f in range(x.shape[0]):\n",
        "    r = r + "
      ],
      "execution_count": null,
      "outputs": []
    },
    {
      "cell_type": "markdown",
      "metadata": {
        "id": "SkyioPWdQUcs"
      },
      "source": [
        "# Excepciones"
      ]
    },
    {
      "cell_type": "code",
      "metadata": {
        "colab": {
          "base_uri": "https://localhost:8080/"
        },
        "id": "xPfwSg-_1vq4",
        "outputId": "536536c3-ac02-4790-c222-64dceb9ae16a"
      },
      "source": [
        "x = float(input(\"Número :\"))\n",
        "print(\"Número ingresado = {0: .2f}\".format(x))"
      ],
      "execution_count": 5,
      "outputs": [
        {
          "output_type": "stream",
          "name": "stdout",
          "text": [
            "Número :5.5687\n",
            "Número ingresado =  5.57\n"
          ]
        }
      ]
    },
    {
      "cell_type": "markdown",
      "metadata": {
        "id": "sIX7jX0F1zDV"
      },
      "source": [
        "**Obsevación**\n",
        "\n",
        "---\n",
        "\n",
        "\n",
        "\n",
        "Ejecute las sentencias anteriores ingresando una letra en lugar de un número, ¿qué sucede?"
      ]
    },
    {
      "cell_type": "code",
      "metadata": {
        "colab": {
          "base_uri": "https://localhost:8080/"
        },
        "id": "-QBe1X1q06SY",
        "outputId": "547e5c84-2a1b-43a5-8992-679e014c3956"
      },
      "source": [
        "try:\n",
        "  x = float(input(\"Número :\"))\n",
        "  print(\"Número ingresado = {0: .2f}\".format(x))\n",
        "except ValueError:\n",
        "  print(\"Valor ingresado es incorrecto\")"
      ],
      "execution_count": 2,
      "outputs": [
        {
          "output_type": "stream",
          "name": "stdout",
          "text": [
            "Número :agapito\n",
            "Valor ingresado es incorrecto\n"
          ]
        }
      ]
    },
    {
      "cell_type": "code",
      "metadata": {
        "colab": {
          "base_uri": "https://localhost:8080/"
        },
        "id": "-eBdewYi3F3n",
        "outputId": "bce8c97a-d1d6-4017-e83b-2878131a635c"
      },
      "source": [
        "import random\n",
        "exito = False \n",
        "adivinar = random.randint(1, 100)\n",
        "while True:\n",
        "  try:\n",
        "    numero = int(input(\"Ingrese número: \"))\n",
        "    if numero == adivinar:\n",
        "      print(\"Felicitaciones\")\n",
        "      exito = True\n",
        "      break\n",
        "    else:\n",
        "      if numero > adivinar:\n",
        "        print(\"El número que debe adivinar es menor\")\n",
        "      else:\n",
        "        print(\"El número que debe adivinar es mayor\")\n",
        "      sigue = input(\"Desea seguir intentando? \")\n",
        "      if sigue.upper() == 'N':\n",
        "          break\n",
        "  except ValueError:\n",
        "    print(\"Valor incorrecto\")\n",
        "if not exito:\n",
        "  print(\"El número que debía adivinar era \", adivinar)"
      ],
      "execution_count": 9,
      "outputs": [
        {
          "output_type": "stream",
          "name": "stdout",
          "text": [
            "Ingrese número: 12\n",
            "El número que debe adivinar es mayor\n",
            "Desea seguir intentando? 15\n",
            "Ingrese número: 34\n",
            "El número que debe adivinar es menor\n",
            "Desea seguir intentando? s\n",
            "Ingrese número: 15\n",
            "El número que debe adivinar es menor\n",
            "Desea seguir intentando? s\n",
            "Ingrese número: 7\n",
            "El número que debe adivinar es mayor\n",
            "Desea seguir intentando? s\n",
            "Ingrese número: 8\n",
            "El número que debe adivinar es mayor\n",
            "Desea seguir intentando? s\n",
            "Ingrese número: 12\n",
            "El número que debe adivinar es mayor\n",
            "Desea seguir intentando? s\n",
            "Ingrese número: 14\n",
            "El número que debe adivinar es menor\n",
            "Desea seguir intentando? s\n",
            "Ingrese número: 13\n",
            "Felicitaciones\n"
          ]
        }
      ]
    },
    {
      "cell_type": "markdown",
      "metadata": {
        "id": "jgdTdoSk-kON"
      },
      "source": [
        "# DataFrame"
      ]
    }
  ]
}